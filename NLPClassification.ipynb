{
  "nbformat": 4,
  "nbformat_minor": 0,
  "metadata": {
    "colab": {
      "provenance": [],
      "mount_file_id": "1cMAYc2Mra6sSA_ZfIGXnixvvuGkqAbxv",
      "authorship_tag": "ABX9TyPjlxY3E5J6NEMhobfcjPCk",
      "include_colab_link": true
    },
    "kernelspec": {
      "name": "python3",
      "display_name": "Python 3"
    },
    "language_info": {
      "name": "python"
    }
  },
  "cells": [
    {
      "cell_type": "markdown",
      "metadata": {
        "id": "view-in-github",
        "colab_type": "text"
      },
      "source": [
        "<a href=\"https://colab.research.google.com/github/tugcebyrl/MachineLearning/blob/main/NLPClassification.ipynb\" target=\"_parent\"><img src=\"https://colab.research.google.com/assets/colab-badge.svg\" alt=\"Open In Colab\"/></a>"
      ]
    },
    {
      "cell_type": "code",
      "execution_count": 33,
      "metadata": {
        "id": "N6uMMPrNzBmm"
      },
      "outputs": [],
      "source": [
        "import pandas as pd\n",
        "import numpy as np\n",
        "from sklearn.feature_extraction.text import CountVectorizer\n",
        "from sklearn.ensemble import RandomForestClassifier\n",
        "from sklearn.model_selection import train_test_split"
      ]
    },
    {
      "cell_type": "code",
      "source": [
        "df=pd.read_csv('/content/drive/MyDrive/Colab Notebooks/banka.csv')\n",
        "df=df[['sorgu','label']]\n",
        "stopwords=['fakat','lakin','ancak','acaba', 'ama', 'aslında', 'az', 'bazı', 'belki', 'biri', 'birkaç', 'birşey', 'biz', 'bu', 'çok', 'çünkü', 'da', 'daha', 'de', 'defa', 'diye', 'eğer', 'en', 'gibi', 'hem', 'hep', 'hepsi', 'her', 'hiç', 'için', 'ile', 'ise', 'kez', 'ki', 'kim', 'mı', 'mu', 'mü', 'nasıl', 'ne', 'neden', 'nerde', 'nerede', 'nereye', 'niçin', 'niye', 'o', 'sanki', 'şey', 'siz', 'şu', 'tüm', 've', 'veya', 'ya', 'yani']\n",
        "\n",
        "mesaj=input(\"İstenilen işlemi giriniz: \")\n",
        "mesaj_df=pd.DataFrame({\"sorgu\":mesaj,\"label\":0},index=[42])\n",
        "df=pd.concat([df,mesaj_df],ignore_index=True)\n",
        "\n",
        "for word in stopwords:\n",
        "  word=\" \"+word+\" \"\n",
        "  df['sorgu']=df['sorgu'].str.replace(word,\" \")\n",
        "\n",
        "cv=CountVectorizer(max_features=50)\n",
        "\n",
        "\n",
        "x=cv.fit_transform(df['sorgu']).toarray()\n",
        "y=df['label']\n",
        "\n",
        "tahmin=x[-1].copy()\n",
        "\n",
        "x=x[0:-1]\n",
        "y=y[0:-1]\n",
        "\n",
        "x_train, x_test, y_train, y_test = train_test_split(x,y,random_state=21,train_size=0.7)\n",
        "\n",
        "rf=RandomForestClassifier()\n",
        "model=rf.fit(x_train,y_train)\n",
        "skor=model.score(x_test,y_test)\n",
        "\n",
        "sonuc=model.predict([tahmin])\n",
        "\n",
        "print(\"Sonuc: \",sonuc,\"Skor: \",skor)\n",
        "\n",
        "\n"
      ],
      "metadata": {
        "colab": {
          "base_uri": "https://localhost:8080/"
        },
        "id": "w7nHAfsB0G0g",
        "outputId": "943bd7f3-1a8d-4977-9000-100a60f042a1"
      },
      "execution_count": 46,
      "outputs": [
        {
          "output_type": "stream",
          "name": "stdout",
          "text": [
            "İstenilen işlemi giriniz: kart borcumu ödemek istiyorum\n",
            "Sonuc:  ['borcodeme'] Skor:  1.0\n"
          ]
        }
      ]
    }
  ]
}